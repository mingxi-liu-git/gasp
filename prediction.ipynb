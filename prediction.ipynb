{
 "cells": [
  {
   "cell_type": "code",
   "execution_count": 2,
   "id": "aed83193-1ef1-4753-b698-edcaeaab6234",
   "metadata": {},
   "outputs": [],
   "source": [
    "import os\n",
    "import numpy as np\n",
    "import pandas as pd\n",
    "import matplotlib.pyplot as plt\n",
    "import torch\n",
    "import torch.nn as nn\n",
    "from PIL import Image, ImageDraw, ImageFont\n",
    "from torch.utils.data import DataLoader, Dataset\n",
    "from torchvision import transforms\n",
    "from torchvision.io import read_image\n",
    "from torchvision.models import vit_b_16  # Example ViT model"
   ]
  },
  {
   "cell_type": "code",
   "execution_count": 40,
   "id": "f42fb66a-f3fe-4ef1-83e1-5a51a2b4996c",
   "metadata": {},
   "outputs": [],
   "source": [
    "LABEL_DICT = {\n",
    "    \"a_Good\": 0,\n",
    "    \"b_Moderate\": 1,\n",
    "    \"c_Unhealthy_for_Sensitive_Groups\": 2,\n",
    "    \"d_Unhealthy\": 3,\n",
    "    \"e_Very_Unhealthy\": 4,\n",
    "    \"f_Severe\": 5,\n",
    "}"
   ]
  },
  {
   "cell_type": "code",
   "execution_count": 3,
   "id": "3b3328f3-a272-4abb-aad3-c62d05b95188",
   "metadata": {},
   "outputs": [],
   "source": [
    "def load_model(model_path=\"/home/sagemaker-user/mingxi/models/241027_ViT_reg_finetune.pth\"):\n",
    "    model = vit_b_16(weights=\"DEFAULT\")\n",
    "    model.heads = nn.Linear(model.heads[0].in_features, 1)\n",
    "    model.load_state_dict(torch.load(model_path))\n",
    "    return model"
   ]
  },
  {
   "cell_type": "code",
   "execution_count": 5,
   "id": "31d3ef5a-4a33-46e9-9ef2-14ae84face02",
   "metadata": {},
   "outputs": [],
   "source": [
    "def image_to_tensor(image_path):\n",
    "    img = Image.open(image_path)\n",
    "    # Define transformations: resize and convert to tensor\n",
    "    transform = transforms.Compose(\n",
    "        [\n",
    "            transforms.Resize((224, 224)),  # Resize to 224x224\n",
    "            transforms.ToTensor(),  # Convert to tensor\n",
    "            transforms.Normalize(mean=[0.485, 0.456, 0.406], std=[0.229, 0.224, 0.225]),\n",
    "        ]\n",
    "    )\n",
    "\n",
    "    # Apply transformations\n",
    "    input_tensor = transform(img).unsqueeze(0)\n",
    "    return input_tensor"
   ]
  },
  {
   "cell_type": "code",
   "execution_count": 41,
   "id": "a67e6b85-beb0-4526-8403-a1dbb07a6fa8",
   "metadata": {},
   "outputs": [],
   "source": [
    "model=load_model()"
   ]
  },
  {
   "cell_type": "code",
   "execution_count": 47,
   "id": "2f7dd553-0e45-4391-8255-b81624e397ab",
   "metadata": {},
   "outputs": [],
   "source": [
    "def aqi_prediction(image_path,model):\n",
    "    image_tensor=image_to_tensor(image_path)\n",
    "    prediction=model(image_tensor)\n",
    "    rounded_prediction=round(prediction[0].item())\n",
    "    predicted_class=list(LABEL_DICT.keys())[rounded_prediction]\n",
    "    print(f'The predicted AQI class is: {predicted_class}')\n",
    "    return prediction[0].item(),rounded_prediction,predicted_class"
   ]
  },
  {
   "cell_type": "code",
   "execution_count": 48,
   "id": "2212544f-2f49-497b-b72f-9db97f01dc0f",
   "metadata": {},
   "outputs": [
    {
     "name": "stdout",
     "output_type": "stream",
     "text": [
      "The predicted AQI class is: d_Unhealthy\n"
     ]
    }
   ],
   "source": [
    "predicted_aqi=aqi_prediction(\"/home/sagemaker-user/data/w210_gasp_data/img/1.JPG\",model)"
   ]
  },
  {
   "cell_type": "code",
   "execution_count": 49,
   "id": "c038ff61-09dd-4830-8fee-b06146de0b01",
   "metadata": {},
   "outputs": [
    {
     "data": {
      "text/plain": [
       "(2.6209523677825928, 3, 'd_Unhealthy')"
      ]
     },
     "execution_count": 49,
     "metadata": {},
     "output_type": "execute_result"
    }
   ],
   "source": [
    "predicted_aqi"
   ]
  }
 ],
 "metadata": {
  "kernelspec": {
   "display_name": "Python 3 (ipykernel)",
   "language": "python",
   "name": "python3"
  },
  "language_info": {
   "codemirror_mode": {
    "name": "ipython",
    "version": 3
   },
   "file_extension": ".py",
   "mimetype": "text/x-python",
   "name": "python",
   "nbconvert_exporter": "python",
   "pygments_lexer": "ipython3",
   "version": "3.11.9"
  }
 },
 "nbformat": 4,
 "nbformat_minor": 5
}
